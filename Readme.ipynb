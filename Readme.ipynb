{
 "cells": [
  {
   "cell_type": "markdown",
   "metadata": {},
   "source": []
  },
  {
   "cell_type": "markdown",
   "metadata": {},
   "source": [
    "# Code Recommendation for R&D Projects (국가R&D과제의 자동 분류코드 추천)\n",
    "\n",
    "This is document classifier for National R&D Reports in Korea.(Report are in Korean)\n",
    "This is my project for [UST Global Research Internship.](https://www.ust.ac.kr/eng.do)\n",
    "I upgraded the code provided to me by KISTI. KISTI used code provided by [sklearn](http://scikit-learn.org/stable/auto_examples/text/document_classification_20newsgroups.html#sphx-glr-auto-examples-text-document-classification-20newsgroups-py).\n",
    "\n",
    "## Getting Started\n",
    "\n",
    "### Prerequisites\n",
    "\n",
    "* [python 2.7](https://www.python.org/download/releases/2.7/)\n",
    "\n",
    "* [nltk](http://www.nltk.org/install.html)\n",
    "* [sklearn](http://scikit-learn.org/stable/developers/advanced_installation.html)\n",
    "* [konlpy](http://konlpy.org/en/v0.4.4/install/)\n",
    "\n",
    "### How to run\n",
    "\n",
    "1. Use XLS Parser to parse .xls file into a .dat file\n",
    "1. (optional) Use english space inserter to fix english part( This was necessary in my case)\n",
    "1. Run 3rdTest_Final\n",
    "\n",
    "## Built With\n",
    "\n",
    "* [Jupyter Notebook](http://jupyter.readthedocs.io/en/latest/install.html)\n",
    "\n",
    "\n",
    "## Authors\n",
    "\n",
    "* **Kamil Veli TORAMAN** - *Final work* - [kvtoraman](https://github.com/kvtoraman)\n",
    "\n",
    "### From sklearn\n",
    "* **Peter Prettenhofer** <peter.prettenhofer@gmail.com>\n",
    "* **Olivier Grisel** <olivier.grisel@ensta.org>\n",
    "* **Mathieu Blondel** <mathieu@mblondel.org>\n",
    "* **Lars Buitinck**\n",
    "\n",
    "## Acknowledgments\n",
    "\n",
    "* KISTI:http://www.kisti.re.kr/eng/\n",
    "* NTIS:https://www.ntis.go.kr/ThMain.do\n",
    "* 2017 Summer, UST Global Research Internship, Daejeon, South Korea\n"
   ]
  },
  {
   "cell_type": "code",
   "execution_count": null,
   "metadata": {
    "collapsed": true
   },
   "outputs": [],
   "source": []
  }
 ],
 "metadata": {
  "kernelspec": {
   "display_name": "Python 2",
   "language": "python",
   "name": "python2"
  },
  "language_info": {
   "codemirror_mode": {
    "name": "ipython",
    "version": 2
   },
   "file_extension": ".py",
   "mimetype": "text/x-python",
   "name": "python",
   "nbconvert_exporter": "python",
   "pygments_lexer": "ipython2",
   "version": "2.7.13"
  }
 },
 "nbformat": 4,
 "nbformat_minor": 2
}
