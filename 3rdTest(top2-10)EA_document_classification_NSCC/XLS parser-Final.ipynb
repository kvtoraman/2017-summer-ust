{
 "cells": [
  {
   "cell_type": "code",
   "execution_count": 5,
   "metadata": {},
   "outputs": [
    {
     "name": "stdout",
     "output_type": "stream",
     "text": [
      "EE02\tsports of school,wireless jumprope,bluetooth BLE,indoor sports goods,smartphone app 학교 학교실내체육 실내 체육 활성화 기술 운동 운동능력 능력 향상 스마트 스마트줄넘기 줄넘기 시스템 시스템개발 개발 학교체육 무선 무선줄넘기 블루투스 실내운동기구 기구 스마트폰 폰 앱 개발목표 목표 교사 1 1인 인 다수 학생 횟수 시간 체중 관리 자동화 방법 개인별 측정 저장 수 기능 핵심 층 층간소음발생 간 소음 발생 1분 분 등가 등가소음도 소음도 1분간 분간 평균치 43 43데시벨 데시벨 이하 국토 국토교통부 교통부 환경부 공동 공동주택 주택 층간소음 기준 규칙 주간 06 00 22 00기준 28 어린이 정도 환경 환경부령 부령 제 제559호 559 호 발 발판 판 하중 한도 접촉 접촉면적 면적 600 600㎠ ㎠ 110 물체 15 높이 자유 자유낙하 낙하 때 파손 오차 줄 줄회전 회전 1회전 회 전 초 속 속도로 도로 100 100회전 후 카운트 계수 계수기와 기와 매트 매트부 부 창의 일치 핸들 핸들부 연속 사용 사용시간 6 6시간 시간 이상 지속적 가능 운동정보 정보 전송 내용 회전감지 감지 알고리즘 추의 끝 속도 가속도 6축 축 센서 탑재 핸들부의 부의 추가 정현파 변화 최대 최대방향 방향 작용 동시 검출 나 점프 점프감지 소재 구조 5 두께 스펀지 내외 구멍 벌집 일정 공 사이 두고 상하 상하면 면 카본 카본필름 필름 2 2장 장 배치 전도성 잉크 바둑판 모양 패턴 형성 사용자 구멍부분 부분 카본필 필 접점 점프동작 동작 시행 입출력 포트 예 상태 통신 연동 연동기능 중앙 중앙장치 장치 주변 주변장치 로 1회 회 핸들부와 부와 데이터 수신함 매트부의 진행 판단 라 서버 처리 서비스 처리기능 마 자체 입력 입력기능 성 성별 별 학년 학년반 반 성명 키 몸무게 시간표 표시 학부모 소 소셜네트워크서비스 셜 네트워크 바 시작품 구성도 무선랜 랜 데이터서버 구성 목표달성도 달성도 지표 중 검증 기대 기대효과 효과 실내체육 다중 다중관리 활용 교실 실내체육수업 수업 체력 운동시 시 학생별 자동 운 운팅 팅 함 성장 성장판 자극 아동 청소년 도움 일선 대부분 적극 권장 날씨 체육교사 실내체육관 체육관 부족 등 이유 체육수업 문제 단기간 해결 차이 무시 지시 기존 단조 교육 교육방식 방식 개성 다양 재미 동기 동기부여 부여 장시간 수십 수십명의 명의 지도 기록 때문 일반 교 교과목 과목 체계적 대체 체육지도 개인 맞춤 맞춤형 형 운동지도 센싱부 기 기등록 등록 기초 학번 나이 바탕 가공 비교 분석 진 2차 차 재 재전송 가치 제공 식단 프로그램 가정 자녀 체력관리 바이스 개인용 유산소 운동기구 가정주부 직장인 집 직장 자신 운동이력 이력 체력측정 돌리 돌리런 런 페어링 직접 타인 시선 치안 치안문제 외부 환경요인 요인 어려움 해소 실제 운동효과 있음 전용 분석정보 여성 경우 치안불안 불안 불편 실외 관계 건강 다이어트 편안 복장 안전 아파트 다세대 다세대주택 완벽 완벽해소 8 8중 중 충격 충격완화 완화 진동 분산 적용 바닥 쿠션 쿠션재 바이오 3 코팅 미끄럼 방지 안전사고 예방\n",
      "\n",
      "ED03\tUV,Pattern Analysis,Image processing,Diagnostic algorithm,Optical design 200 이하 파장 검출 폐쇄 폐쇄분전반 분전반 안전 안전시스템 시스템 개발 자외선 패턴 패턴분석 분석 영상 영상처리 처리 진단 진단알고리즘 알고리즘 광학 광학설계 설계 모듈 모듈별 별 분야 기초 어안 어안렌즈 렌즈 제작 열화 이미지 프로세싱 이용 신호 메인 270 270도 도 광시야 광시야각 각 확보 감시 열화상태 상태 분석진단 유무선 통신 프로 프로토콜 토 콜 아크 아크플래시 플래시 원격 원격감시 이차원 보간법 요소 요소기술 기술 검출모듈 프로세서 광학렌즈 등 전용 통계 통계프로그램 프로그램\n",
      "\n"
     ]
    }
   ],
   "source": [
    "import pandas as pd\n",
    "from konlpy.tag import Kkma\n",
    "from konlpy.utils import pprint\n",
    "from konlpy.tag import Hannanum\n",
    "from random import randint\n",
    "from itertools import izip,izip_longest\n",
    "kkma = Kkma()    \n",
    "#files\n",
    "out = open(\"oylesine.dat\",\"w\")\n",
    "read_xls = pd.ExcelFile(\"3rd_test_10.xls\")\n",
    "\n",
    "sheet = read_xls.parse(0) #2 is the sheet number\n",
    "sheet = sheet.fillna('')\n",
    "#columns in Excel file\n",
    "KOR_PJT_NM = sheet[\"KOR_PJT_NM\"]\n",
    "RSCH_AREA_CLS1_CD = sheet[\"RSCH_AREA_CLS1_CD\"]\n",
    "RSCH_AREA_CLS2_CD = sheet[\"RSCH_AREA_CLS2_CD\"]\n",
    "RSCH_AREA_CLS3_CD = sheet[\"RSCH_AREA_CLS3_CD\"]\n",
    "KOR_KYWD = sheet[\"KOR_KYWD\"]\n",
    "ENG_KYWD = sheet[\"ENG_KYWD\"]\n",
    "RSCH_GOAL_ABSTRACT = sheet[\"RSCH_GOAL_ABSTRACT\"]\n",
    "RSCH_ABSTRACT = sheet[\"RSCH_ABSTRACT\"]\n",
    "EXP_EFCT_ABSTRACT = sheet[\"EXP_EFCT_ABSTRACT\"]\n",
    "\n",
    "counter = 0\n",
    "for name,code1,code2,code3,kor_kywd,eng_kywd,goal,abstract,efct in izip(KOR_PJT_NM,RSCH_AREA_CLS1_CD,RSCH_AREA_CLS2_CD,RSCH_AREA_CLS3_CD,KOR_KYWD,ENG_KYWD,RSCH_GOAL_ABSTRACT,RSCH_ABSTRACT,EXP_EFCT_ABSTRACT):\n",
    "    counter += 1\n",
    "    korean_part = name +\" \"+ kor_kywd + \" \" + goal+\" \" + abstract + \" \" + efct\n",
    "    korean_part = korean_part.replace('\\n',' ')\n",
    "    korean_part = korean_part.replace('\\r',' ')\n",
    "    korean_part = korean_part.replace('\\t',' ')\n",
    "    eng_kywd = eng_kywd.replace('\\n',' ')\n",
    "    eng_kywd = eng_kywd.replace('\\r',' ')\n",
    "    eng_kywd = eng_kywd.replace('\\t',' ')\n",
    "    \n",
    "    #use noun parser from kkma\n",
    "    after_tab =  eng_kywd.encode('utf-8')+ \" \" +\\\n",
    "              \" \".join(kkma.nouns(korean_part)).encode(\"utf-8\")+'\\n'\n",
    "    \n",
    "    if(code1[0] == \"E\"):\n",
    "        out.write(code1[0:4].encode('utf-8') + '\\t' + after_tab)\n",
    "    if(code2 is not \"\" and code2[0] == 'E'):\n",
    "        out.write(code2[0:4].encode('utf-8') + '\\t' + after_tab)\n",
    "    if(code3 is not \"\" and code3[0] == 'E'):\n",
    "        out.write(code3[0:4].encode('utf-8') + '\\t' + after_tab)\n",
    "   \n",
    "    if(randint(0,100) < 10):\n",
    "        print(code1[0:4]+'\\t'+\n",
    "              eng_kywd + \" \" +\n",
    "              \" \".join(kkma.nouns(korean_part))+'\\n')\n",
    "out.close()"
   ]
  },
  {
   "cell_type": "markdown",
   "metadata": {
    "collapsed": true
   },
   "source": [
    " "
   ]
  }
 ],
 "metadata": {
  "kernelspec": {
   "display_name": "Python 2",
   "language": "python",
   "name": "python2"
  },
  "language_info": {
   "codemirror_mode": {
    "name": "ipython",
    "version": 2
   },
   "file_extension": ".py",
   "mimetype": "text/x-python",
   "name": "python",
   "nbconvert_exporter": "python",
   "pygments_lexer": "ipython2",
   "version": "2.7.13"
  }
 },
 "nbformat": 4,
 "nbformat_minor": 2
}
