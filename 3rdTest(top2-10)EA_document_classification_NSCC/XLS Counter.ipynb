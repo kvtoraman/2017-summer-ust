{
 "cells": [
  {
   "cell_type": "code",
   "execution_count": 2,
   "metadata": {},
   "outputs": [
    {
     "name": "stdout",
     "output_type": "stream",
     "text": [
      "('42610', '58145', '67040')\n"
     ]
    }
   ],
   "source": [
    "import pandas as pd\n",
    "from konlpy.tag import Kkma\n",
    "from konlpy.tag import Hannanum\n",
    "from konlpy.utils import pprint\n",
    "from random import randint\n",
    "from time import time\n",
    "from itertools import izip,izip_longest\n",
    "\n",
    "kkma = Kkma()    \n",
    "\n",
    "out = open(\"number_of_element_1_2_3_cols.dat\",\"w\")\n",
    "xls = pd.ExcelFile(\"3rd_test.xls\")\n",
    "#xls = pd.ExcelFile(\"test.xls\")\n",
    "\n",
    "sheet = xls.parse(0) #2 is the sheet number\n",
    "sheet = sheet.fillna('')\n",
    "KOR_PJT_NM = sheet[\"KOR_PJT_NM\"]\n",
    "RSCH_AREA_CLS1_CD = sheet[\"RSCH_AREA_CLS1_CD\"]\n",
    "RSCH_AREA_CLS2_CD = sheet[\"RSCH_AREA_CLS2_CD\"]\n",
    "RSCH_AREA_CLS3_CD = sheet[\"RSCH_AREA_CLS3_CD\"]\n",
    "\n",
    "KOR_KYWD = sheet[\"KOR_KYWD\"]\n",
    "ENG_KYWD = sheet[\"ENG_KYWD\"]\n",
    "RSCH_GOAL_ABSTRACT = sheet[\"RSCH_GOAL_ABSTRACT\"]\n",
    "RSCH_ABSTRACT = sheet[\"RSCH_ABSTRACT\"]\n",
    "EXP_EFCT_ABSTRACT = sheet[\"EXP_EFCT_ABSTRACT\"]\n",
    "counter = 0\n",
    "one_col = 0\n",
    "two_col = 0\n",
    "three_col = 0\n",
    "for code1,code2,code3 in izip(RSCH_AREA_CLS1_CD,RSCH_AREA_CLS2_CD,RSCH_AREA_CLS3_CD):\n",
    "    if(code1 is not \"\"):\n",
    "        one_col += 1\n",
    "        two_col += 1\n",
    "        three_col +=1\n",
    "    if(code2 is not \"\"):\n",
    "        two_col += 1\n",
    "        three_col += 1\n",
    "    if(code3 is not \"\"):\n",
    "        three_col += 1\n",
    "one_col = str(one_col)\n",
    "two_col = str(two_col)\n",
    "three_col = str(three_col)\n",
    "print(one_col,two_col,three_col)\n",
    "out.write('1col: ' + one_col)\n",
    "out.write('2cols: ' + two_col)\n",
    "out.write('3cols: ' + three_col)\n",
    "\n",
    "out.close()"
   ]
  },
  {
   "cell_type": "code",
   "execution_count": null,
   "metadata": {
    "collapsed": true
   },
   "outputs": [],
   "source": []
  }
 ],
 "metadata": {
  "kernelspec": {
   "display_name": "Python 2",
   "language": "python",
   "name": "python2"
  },
  "language_info": {
   "codemirror_mode": {
    "name": "ipython",
    "version": 2
   },
   "file_extension": ".py",
   "mimetype": "text/x-python",
   "name": "python",
   "nbconvert_exporter": "python",
   "pygments_lexer": "ipython2",
   "version": "2.7.13"
  }
 },
 "nbformat": 4,
 "nbformat_minor": 2
}
