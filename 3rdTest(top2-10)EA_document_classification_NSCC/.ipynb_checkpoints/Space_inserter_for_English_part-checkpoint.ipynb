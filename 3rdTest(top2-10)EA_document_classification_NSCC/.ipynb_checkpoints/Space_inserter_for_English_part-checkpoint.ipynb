{
 "cells": [
  {
   "cell_type": "code",
   "execution_count": 1,
   "metadata": {
    "collapsed": true
   },
   "outputs": [],
   "source": [
    "from __future__ import print_function\n",
    "import pandas as pd\n",
    "import logging\n",
    "import numpy as np\n",
    "from optparse import OptionParser\n",
    "import sys, copy\n",
    "from time import time\n",
    "from random import randint\n",
    "from math import log\n",
    "#import matplotlib.pyplot as plt\n",
    "from IPython.display import display, HTML\n",
    "from sklearn.datasets import fetch_20newsgroups\n",
    "from sklearn.datasets import fetch_rcv1\n",
    "\n",
    "from sklearn.feature_extraction.text import TfidfVectorizer\n",
    "from sklearn.feature_extraction.text import HashingVectorizer\n",
    "from sklearn.feature_selection import SelectFromModel\n",
    "from sklearn.feature_selection import SelectKBest, chi2\n",
    "from sklearn.linear_model import RidgeClassifier\n",
    "from sklearn.pipeline import Pipeline\n",
    "from sklearn.svm import LinearSVC\n",
    "from sklearn.svm import SVR\n",
    "from sklearn.linear_model import SGDClassifier\n",
    "from sklearn.linear_model import Perceptron\n",
    "from sklearn.linear_model import PassiveAggressiveClassifier\n",
    "from sklearn.naive_bayes import BernoulliNB, MultinomialNB\n",
    "from sklearn.neighbors import KNeighborsClassifier\n",
    "from sklearn.neighbors import NearestCentroid\n",
    "from sklearn.ensemble import RandomForestClassifier\n",
    "from sklearn.utils.extmath import density\n",
    "from sklearn import metrics"
   ]
  },
  {
   "cell_type": "code",
   "execution_count": 2,
   "metadata": {
    "collapsed": true
   },
   "outputs": [],
   "source": [
    "#Code from https://stackoverflow.com/questions/8870261/how-to-split-text-without-spaces-into-list-of-words\n",
    "\n",
    "# Build a cost dictionary, assuming Zipf's law and cost = -math.log(probability).\n",
    "def infer_spaces(s):\n",
    "    \"\"\"Uses dynamic programming to infer the location of spaces in a string\n",
    "    without spaces.\"\"\"\n",
    "\n",
    "    # Find the best match for the i first characters, assuming cost has\n",
    "    # been built for the i-1 first characters.\n",
    "    # Returns a pair (match_cost, match_length).\n",
    "    \n",
    "    def best_match(i):\n",
    "        candidates = enumerate(reversed(cost[max(0, i-maxword):i]))\n",
    "        return min((c + wordcost.get(s[i-k-1:i], 9e999), k+1) for k,c in candidates)\n",
    "\n",
    "    # Build the cost array.\n",
    "    cost = [0]\n",
    "    for i in range(1,len(s)+1):\n",
    "        c,k = best_match(i)\n",
    "        cost.append(c)\n",
    "\n",
    "    # Backtrack to recover the minimal-cost string.\n",
    "    out = []\n",
    "    i = len(s)\n",
    "    while i>0:\n",
    "        c,k = best_match(i)\n",
    "        assert c == cost[i]\n",
    "        out.append(s[i-k:i])\n",
    "        i -= k\n",
    "\n",
    "    return \" \".join(reversed(out))"
   ]
  },
  {
   "cell_type": "code",
   "execution_count": 3,
   "metadata": {
    "collapsed": true,
    "scrolled": false
   },
   "outputs": [],
   "source": [
    "file_name = 'kkma_koreanonly_withsentencebreaker_1col.dat'\n",
    "data_train = open(file_name).readlines()\n",
    "out = open('rev_' + file_name,'w')\n",
    "ENCODING = 'utf-8'\n",
    "data_train_data = []\n",
    "y_train = []\n",
    "def is_ascii(s):\n",
    "    return all(ord(c) < 128 for c in s)\n",
    "\n",
    "words = open(\"words-by-frequency.txt\").read().split()\n",
    "wordcost = dict((k, log((i+1)*log(len(words)))) for i,k in enumerate(words))\n",
    "maxword = max(len(x) for x in words)\n",
    "\n",
    "for line_id,line in enumerate(data_train):\n",
    "    items = line.split('\\t')\n",
    "    if len(items) == 2:\n",
    "        out.write(items[0]+'\\t')\n",
    "        line = items[1].decode(ENCODING, 'ignore')\n",
    "        ascii_mode = False\n",
    "        tmp = \"\"\n",
    "        #if(line_id%200 == 0):\n",
    "        #    print(line)\n",
    "        for i,c in enumerate(line):\n",
    "            if(c!=' ' and is_ascii(c) and not ascii_mode):\n",
    "                ascii_mode = True\n",
    "                \n",
    "            #if current character is not latin(means it is hangul) and there were some english characters before    \n",
    "            if(not is_ascii(c) and ascii_mode):\n",
    "                ascii_mode = False\n",
    "             #   print(line_id,tmp)\n",
    "                blocks = tmp.split(' ')\n",
    "                for block in blocks:\n",
    "                    block = block.lower()\n",
    "                    spaced = infer_spaces(block)\n",
    "                    for guess in spaced.split():\n",
    "                        out.write(guess+' ')\n",
    "                tmp=\"\"\n",
    "            if not ascii_mode:    \n",
    "                out.write(c.encode('utf-8'))\n",
    "            else:\n",
    "                tmp += c.encode('utf-8')\n",
    "            if c!=' ' and len(line)>i+1 and is_ascii(c) and not is_ascii(line[i+1]):\n",
    "                #if(i%200 == 0): \n",
    "                #    print(i,c, line[i+1])\n",
    "                out.write(' '.encode('utf-8'))\n",
    "        out.write(\"\\n\")\n",
    "    else:\n",
    "        print(\"ERROR in train\")\n",
    "out.close()"
   ]
  },
  {
   "cell_type": "code",
   "execution_count": null,
   "metadata": {
    "collapsed": true
   },
   "outputs": [],
   "source": []
  }
 ],
 "metadata": {
  "kernelspec": {
   "display_name": "Python 2",
   "language": "python",
   "name": "python2"
  },
  "language_info": {
   "codemirror_mode": {
    "name": "ipython",
    "version": 2
   },
   "file_extension": ".py",
   "mimetype": "text/x-python",
   "name": "python",
   "nbconvert_exporter": "python",
   "pygments_lexer": "ipython2",
   "version": "2.7.13"
  }
 },
 "nbformat": 4,
 "nbformat_minor": 2
}
