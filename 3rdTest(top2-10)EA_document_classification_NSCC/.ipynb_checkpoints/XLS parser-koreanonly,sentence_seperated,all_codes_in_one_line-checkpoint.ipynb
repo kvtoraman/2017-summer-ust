{
 "cells": [
  {
   "cell_type": "code",
   "execution_count": 1,
   "metadata": {
    "collapsed": true
   },
   "outputs": [],
   "source": [
    "import pandas as pd\n",
    "from konlpy.tag import Kkma\n",
    "from konlpy.tag import Hannanum\n",
    "from konlpy.utils import pprint\n",
    "from random import randint\n",
    "from time import time\n",
    "from itertools import izip,izip_longest\n",
    "\n",
    "kkma = Kkma()    \n",
    "\n",
    "out = open(\"kkma_koreanonly_withsentencebreaker_2cols.dat\",\"w\")\n",
    "#xls = pd.ExcelFile(\"(modified)1st.2nd_test.xls\")\n",
    "xls = pd.ExcelFile(\"3rd_test.xls\")\n",
    "\n",
    "sheet = xls.parse(0) #2 is the sheet number\n",
    "sheet = sheet.fillna('')\n",
    "KOR_PJT_NM = sheet[\"KOR_PJT_NM\"]\n",
    "RSCH_AREA_CLS1_CD = sheet[\"RSCH_AREA_CLS1_CD\"]\n",
    "RSCH_AREA_CLS2_CD = sheet[\"RSCH_AREA_CLS2_CD\"]\n",
    "RSCH_AREA_CLS3_CD = sheet[\"RSCH_AREA_CLS3_CD\"]\n",
    "\n",
    "KOR_KYWD = sheet[\"KOR_KYWD\"]\n",
    "ENG_KYWD = sheet[\"ENG_KYWD\"]\n",
    "RSCH_GOAL_ABSTRACT = sheet[\"RSCH_GOAL_ABSTRACT\"]\n",
    "RSCH_ABSTRACT = sheet[\"RSCH_ABSTRACT\"]\n",
    "EXP_EFCT_ABSTRACT = sheet[\"EXP_EFCT_ABSTRACT\"]\n",
    "counter = 0\n",
    "for name,code1,code2,code3,kor_kywd,goal,abstract,efct in izip(KOR_PJT_NM,RSCH_AREA_CLS1_CD,RSCH_AREA_CLS2_CD,RSCH_AREA_CLS3_CD,KOR_KYWD,RSCH_GOAL_ABSTRACT,RSCH_ABSTRACT,EXP_EFCT_ABSTRACT):\n",
    "    #print(code)\n",
    "    #t1 = time()\n",
    "    counter += 1\n",
    "    korean_part = name +\" \"+ kor_kywd + \" \" + goal+\" \" + abstract + \" \" + efct\n",
    "    name = name.replace('\\n',' ')\n",
    "    name = name.replace('\\r',' ')    \n",
    "    name = name.replace('\\t',' ')\n",
    "    kor_kywd = kor_kywd.replace('\\n',' ')\n",
    "    kor_kywd = kor_kywd.replace('\\r',' ')    \n",
    "    kor_kywd = kor_kywd.replace('\\t',' ')\n",
    "    goal = goal.replace('\\n',' ')\n",
    "    goal = goal.replace('\\r',' ')    \n",
    "    goal = goal.replace('\\t',' ')\n",
    "    abstract = abstract.replace('\\n',' ')\n",
    "    abstract = abstract.replace('\\r',' ')    \n",
    "    abstract = abstract.replace('\\t',' ')\n",
    "    efct = efct.replace('\\n',' ')\n",
    "    efct = efct.replace('\\r',' ')    \n",
    "    efct = efct.replace('\\t',' ')\n",
    "    \n",
    "    name = \" \".join(kkma.nouns(name))\n",
    "    kor_kywd = \" \".join(kkma.nouns(kor_kywd))\n",
    "    goal = \" \".join(kkma.nouns(goal))\n",
    "    abstract = \" \".join(kkma.nouns(abstract))\n",
    "    efct = \" \".join(kkma.nouns(efct))\n",
    "    \n",
    "    #print(eng_kywd)\n",
    "    #eng_kywd = eng_kywd.replace('\\n',' ')\n",
    "    #eng_kywd = eng_kywd.replace('\\r',' ')\n",
    "    #eng_kywd = eng_kywd.replace('\\t',' ')\n",
    "    #print(eng_kywd)\n",
    "    \n",
    "    #t2 = time()\n",
    "    after_tab = (name + '%%' + kor_kywd + '%%' + goal + '%%' + abstract + '%%' + efct).encode(\"utf-8\")+'\\n'\n",
    "    if(code1[0] == 'E'):\n",
    "        out.write(code1[0:4].encode('utf-8')+'\\t'+after_tab)\n",
    "    if(code2 is not \"\" and code2[0] == 'E'):\n",
    "        out.write(code2[0:4].encode('utf-8')+'\\t'+ after_tab)\n",
    "    #if(code3 is not \"\" and code3[0] == 'E'):\n",
    "     #   out.write(code3[0:4].encode('utf-8')+'\\t'+ after_tab)\n",
    "        \n",
    "\n",
    "out.close()"
   ]
  },
  {
   "cell_type": "markdown",
   "metadata": {
    "collapsed": true
   },
   "source": [
    " "
   ]
  }
 ],
 "metadata": {
  "kernelspec": {
   "display_name": "Python 2",
   "language": "python",
   "name": "python2"
  },
  "language_info": {
   "codemirror_mode": {
    "name": "ipython",
    "version": 2
   },
   "file_extension": ".py",
   "mimetype": "text/x-python",
   "name": "python",
   "nbconvert_exporter": "python",
   "pygments_lexer": "ipython2",
   "version": "2.7.13"
  }
 },
 "nbformat": 4,
 "nbformat_minor": 2
}
