{
 "cells": [
  {
   "cell_type": "markdown",
   "metadata": {},
   "source": [
    "# Adaptation of {Doc2Vec Tutorial on the Lee Dataset}"
   ]
  },
  {
   "cell_type": "code",
   "execution_count": 1,
   "metadata": {},
   "outputs": [
    {
     "name": "stderr",
     "output_type": "stream",
     "text": [
      "C:\\ProgramData\\Anaconda2\\envs\\py27\\lib\\site-packages\\gensim\\utils.py:865: UserWarning: detected Windows; aliasing chunkize to chunkize_serial\n",
      "  warnings.warn(\"detected Windows; aliasing chunkize to chunkize_serial\")\n"
     ]
    }
   ],
   "source": [
    "import gensim\n",
    "import os\n",
    "import collections\n",
    "import smart_open\n",
    "import random\n",
    "from __future__ import division\n",
    "from __future__ import print_function"
   ]
  },
  {
   "cell_type": "markdown",
   "metadata": {},
   "source": [
    "## What is it?\n",
    "\n",
    "Doc2Vec is an NLP tool for representing documents as a vector and is a generalizing of the Word2Vec method. This tutorial will serve as an introduction to Doc2Vec and present ways to train and assess a Doc2Vec model.\n",
    "## Resources\n",
    "\n",
    "* [Word2Vec Paper](https://papers.nips.cc/paper/5021-distributed-representations-of-words-and-phrases-and-their-compositionality.pdf)\n",
    "* [Doc2Vec Paper](https://cs.stanford.edu/~quocle/paragraph_vector.pdf)\n",
    "* [Dr. Michael D. Lee's Website](http://faculty.sites.uci.edu/mdlee)\n",
    "* [Lee Corpus](http://faculty.sites.uci.edu/mdlee/similarity-data/)\n",
    "* [IMDB Doc2Vec Tutorial](doc2vec-IMDB.ipynb)\n",
    "\n",
    "## Getting Started\n",
    "\n",
    "To get going, we'll need to have a set of documents to train our doc2vec model. In theory, a document could be anything from a short 140 character tweet, a single paragraph (i.e., journal article abstract), a news article, or a book. In NLP parlance a collection or set of documents is often referred to as a <b>corpus</b>. \n",
    "\n",
    "For this tutorial, we'll be training our model using the [Lee Background Corpus](https://hekyll.services.adelaide.edu.au/dspace/bitstream/2440/28910/1/hdl_28910.pdf) included in gensim. This corpus contains 314 documents selected from the Australian Broadcasting\n",
    "Corporation’s news mail service, which provides text e-mails of headline stories and covers a number of broad topics.\n",
    "\n",
    "And we'll test our model by eye using the much shorter [Lee Corpus](https://hekyll.services.adelaide.edu.au/dspace/bitstream/2440/28910/1/hdl_28910.pdf) which contains 50 documents."
   ]
  },
  {
   "cell_type": "code",
   "execution_count": 2,
   "metadata": {
    "collapsed": true
   },
   "outputs": [],
   "source": [
    "# Set file names for train and test data\n",
    "#test_data_dir = '{}'.format(os.sep).join([gensim.__path__[0], 'test', 'test_data'])\n",
    "lee_train_file = 'kkma_koreanonly_withsentencebreaker_1col -train.dat'\n",
    "lee_test_file = 'kkma_koreanonly_withsentencebreaker_1col -test.dat'"
   ]
  },
  {
   "cell_type": "markdown",
   "metadata": {},
   "source": [
    "## Define a Function to Read and Preprocess Text"
   ]
  },
  {
   "cell_type": "markdown",
   "metadata": {},
   "source": [
    "Below, we define a function to open the train/test file (with latin encoding), read the file line-by-line, pre-process each line using a simple gensim pre-processing tool (i.e., tokenize text into individual words, remove punctuation, set to lowercase, etc), and return a list of words. Note that, for a given file (aka corpus), each continuous line constitutes a single document and the length of each line (i.e., document) can vary. Also, to train the model, we'll need to associate a tag/number with each document of the training corpus. In our case, the tag is simply the zero-based line number."
   ]
  },
  {
   "cell_type": "code",
   "execution_count": 3,
   "metadata": {
    "collapsed": true
   },
   "outputs": [],
   "source": [
    "def read_corpus(fname, tokens_only=False):\n",
    "    with smart_open.smart_open(fname, encoding=\"utf-8\") as f:\n",
    "        for i, line in enumerate(f):\n",
    "            line_elems = line.split('\\t')\n",
    "            line_elems[-1].replace('%%',' ')\n",
    "            if tokens_only:\n",
    "                yield gensim.utils.simple_preprocess(line_elems[-1])\n",
    "            else:\n",
    "                # For training data, add tags\n",
    "                if len(line_elems) == 1:\n",
    "                    print('ERROR:line without tag!')\n",
    "                yield gensim.models.doc2vec.TaggedDocument(gensim.utils.simple_preprocess(line_elems[-1]), line_elems[0:-1])"
   ]
  },
  {
   "cell_type": "code",
   "execution_count": 4,
   "metadata": {
    "collapsed": true
   },
   "outputs": [],
   "source": [
    "train_corpus = list(read_corpus(lee_train_file))\n",
    "test_corpus = list(read_corpus(lee_test_file))"
   ]
  },
  {
   "cell_type": "markdown",
   "metadata": {},
   "source": [
    "Let's take a look at the training corpus"
   ]
  },
  {
   "cell_type": "code",
   "execution_count": 5,
   "metadata": {},
   "outputs": [
    {
     "name": "stdout",
     "output_type": "stream",
     "text": [
      "[TaggedDocument(words=[u'\\uc2a4\\ub9c8\\ud2b8', u'\\ub2e8\\ub9d0\\uae30', u'\\uae30\\ubc18', u'\\uc5c5\\ubb34', u'\\uc5c5\\ubb34\\uc2dc\\uc2a4\\ud15c', u'\\uc2dc\\uc2a4\\ud15c', u'\\uc5f0\\ub3d9', u'\\ubaa8\\ubc14\\uc77c', u'\\ud50c\\ub9ac\\ucf00\\uc774\\uc158', u'\\ucf00\\uc774', u'\\uc11c\\ube44\\uc2a4', u'\\ucee8\\ubc84\\uc804\\uc2a4', u'\\ud50c\\ub7ab\\ud3fc', u'\\uae30\\uc220', u'\\uac1c\\ubc1c', u'\\ubaa8\\ubc14\\uc77c', u'\\ud504\\ub85c\\uc138\\uc2a4', u'\\ud504\\ub85c\\uc138\\uc2a4\\uc911\\uc2ec\\ud615', u'\\uc911\\uc2ec', u'\\uac8c\\uc774\\ud2b8\\uc6e8\\uc774', u'\\uac8c\\uc774\\ud2b8\\uc6e8\\uc774\\uc11c\\ubc84', u'\\uc11c\\ubc84', u'\\uc11c\\ube44\\uc2a4', u'\\uc11c\\ube44\\uc2a4\\ud50c\\ub7ab\\ud3fc', u'\\ud50c\\ub7ab\\ud3fc', u'\\uc554\\ud638\\ud654', u'\\uae30\\uc5c5', u'\\ubaa8\\ubc14\\uc77c', u'\\uc5f0\\uacc4', u'\\uc11c\\ube44\\uc2a4', u'\\ubbf8\\ub4e4', u'\\ubbf8\\ub4e4\\uc6e8\\uc5b4', u'\\uc6e8\\uc5b4', u'\\ud504\\ub808\\uc784', u'\\ud504\\ub808\\uc784\\uc6cc\\ud06c', u'\\uc6cc\\ud06c', u'\\uac8c\\uc774\\ud2b8\\uc6e8\\uc774', u'\\uae30\\uc220', u'\\uac1c\\ubc1c', u'\\ud50c\\ub7ab\\ud3fc', u'\\uc801\\uc6a9', u'\\uacf5\\uc778', u'\\uc778\\uc99d', u'\\uc554\\ud638\\ud654', u'\\uc870\\ud569', u'\\uc870\\ud569\\ud615', u'\\ud50c\\ub9ac\\ucf00\\uc774\\uc158', u'\\ucf00\\uc774', u'\\ud328\\ud0a4\\uc9c0', u'\\uae30\\uc5c5', u'\\uc5f0\\ub3d9', u'\\uac8c\\uc774\\ud2b8\\uc6e8\\uc774', u'\\uae30\\uc220', u'\\uac1c\\ubc1c', u'\\ud504\\ub85c\\uc138\\uc2a4', u'\\uc911\\uc2ec', u'\\ubaa8\\ubc14\\uc77c', u'\\uc11c\\ube44\\uc2a4', u'\\ubbf8\\ub4e4', u'\\ubbf8\\ub4e4\\uc6e8\\uc5b4', u'\\uc6e8\\uc5b4', u'\\ub370\\uc774\\ud130', u'\\uc5f0\\uacc4', u'\\uacf5\\uc778', u'\\uc778\\uc99d', u'\\uc554\\ud638\\ud654', u'\\ud655\\ubcf4', u'\\uc870\\ud569', u'\\uccb4\\uacc4', u'\\uad6c\\ucd95', u'\\ubd80\\ubb38', u'\\ud2b9\\ud654', u'\\ud50c\\ub9ac\\ucf00\\uc774\\uc158', u'\\ucf00\\uc774', u'\\ud328\\ud0a4\\uc9c0', u'\\uc2dc\\ubc94', u'\\uacbd\\uc81c\\uc801', u'\\ud6a8\\uacfc', u'\\uc2dc\\ud5d8', u'\\uc11c\\ube44\\uc2a4', u'\\ucc38\\uc5ec', u'\\uae30\\uc5c5', u'\\uae30\\uc220', u'\\uc2e0\\uaddc', u'\\uc2dc\\uc7a5', u'\\ube44\\uc988\\ub2c8\\uc2a4', u'\\ubaa8\\ub378', u'\\ubc1c\\uad74', u'\\uad50\\uc721', u'\\ucee8\\uc124\\ud305', u'\\uc9c1\\uc811\\uc801', u'\\ubcf4\\uae09', u'\\ub2e4\\uc591', u'\\ucc44\\ub110', u'\\ud65c\\uc6a9', u'\\ud64d\\ubcf4', u'\\uc0b0\\uc5c5', u'\\uc0b0\\uc5c5\\uc778\\ub825', u'\\uc778\\ub825', u'\\uc721\\uc131', u'\\ucd5c\\uc2e0', u'\\ud50c\\ub7ab\\ud3fc', u'\\uae30\\ubc18', u'\\uc5c5\\ubb34', u'\\ud655\\uc0b0', u'\\uc8fc\\ub3c4', u'\\uc5c5\\ubb34\\ud601\\uc2e0', u'\\ud601\\uc2e0', u'\\uac15\\ud654', u'\\uae30\\uc220\\uc801', u'\\uae30\\uc874', u'\\ud328\\ud0a4\\uc9c0', u'\\uad6c\\ud604', u'\\uae30\\uc5ec', u'\\ubaa8\\ubc14\\uc77c', u'\\ud50c\\ub7ab\\ud3fc\\uac04', u'\\ud45c\\uc900', u'\\uc5f0\\uacc4', u'\\ud655\\ubcf4', u'\\ud45c\\uc900\\ud654', u'\\ubbf8\\ub4e4', u'\\ubbf8\\ub4e4\\uc6e8\\uc5b4', u'\\uc6e8\\uc5b4', u'\\uae30\\uc220\\uac15\\ud654', u'\\ubd84\\ub9ac', u'\\uc644\\uc131', u'\\uc644\\uc131\\ub3c4\\uac00', u'\\ub3c4\\uac00', u'\\uc0ac\\ud68c\\uc801', u'\\ubcf4\\uc548', u'\\ubcf4\\uc548\\ubaa8\\ub4c8', u'\\ubaa8\\ub4c8', u'\\uac1c\\uc778', u'\\uac1c\\uc778\\uc815\\ubcf4', u'\\uc815\\ubcf4', u'\\uc9c0\\uc801', u'\\uc790\\uc0b0', u'\\uc720\\ucd9c', u'\\ubc29\\uc9c0', u'\\ube44\\uc988', u'\\ub2c8\\uc2a4', u'\\ub3c4\\uba54\\uc778', u'\\ud2b9\\ud654', u'\\uac1c\\ubc1c', u'\\uac00\\uc18d\\ud654'], tags=['EE02']), TaggedDocument(words=[u'\\ubc18\\ub3c4\\uccb4', u'\\uce21\\uc815', u'\\uc2dc\\uc2a4\\ud15c', u'\\uac1c\\ubc1c', u'\\uac04\\uc12d', u'\\uad11\\ud559\\uacc4', u'\\uc784\\ubca0\\ub514\\ub4dc', u'\\ub514\\ub4dc', u'\\uc18c\\ud504\\ud2b8', u'\\uc18c\\ud504\\ud2b8\\uc6e8\\uc5b4', u'\\uc6e8\\uc5b4', u'\\uc2e4\\ub9ac\\ucf58', u'\\uad00\\ud1b5', u'\\uc804\\uadf9', u'\\uce21\\uc815', u'\\ub300\\uba74\\uc801', u'\\uba74\\uc801', u'\\uac04\\uc12d', u'\\uad11\\ud559\\uacc4', u'\\uc124\\uacc4', u'\\uc81c\\uc791', u'\\ubbf8\\ub77c', u'\\ubbf8\\ub77c\\uc6b0', u'\\uac04\\uc12d\\uacc4', u'\\uae30\\ucd08', u'\\ucd5c\\uc801', u'\\uc2dc\\uc900', u'\\uc2dc\\uc900\\ub80c\\uc988', u'\\ub80c\\uc988', u'\\uad11\\uc6d0\\ubd80', u'\\uad11\\uc2e0\\ud638', u'\\uc2e0\\ud638', u'\\uac04\\uc12d\\ubd80', u'\\uc218\\uad11', u'\\uc218\\uad11\\ubd80\\uc758', u'\\ubd80\\uc758', u'\\uad6c\\uc870', u'\\uc548\\uc815\\uc801', u'\\ubb34\\ub2ac', u'\\ud615\\uc131', u'\\uac80\\uc99d', u'\\uace0\\uc18d', u'\\uc774\\ubbf8\\uc9c0', u'\\ud68d\\ub4dd', u'\\uac1c\\ubc1c', u'\\uc601\\uc0c1', u'\\uc774\\uc6a9', u'\\uc704\\uc0c1', u'\\uac80\\ucd9c', u'\\uc54c\\uace0\\ub9ac\\uc998', u'\\ub370\\uc774\\ud130', u'\\ucc98\\ub9ac', u'\\uae30\\uc220', u'\\uc9c1\\uc124\\uacc4', u'\\ub4dc\\ub77c\\uc774\\ubc84', u'\\uc2e4\\uc2dc\\uac04', u'\\uc601\\uc0c1\\ud654', u'\\ud558\\uc774\\ube0c\\ub9ac\\ub4dc', u'\\uc2e0\\ud638\\ucc98\\ub9ac', u'\\uc704\\uc0c1\\uacfc', u'\\uc0c1\\uacfc', u'\\ubcc0\\uc704', u'\\ub300\\uc751', u'\\uc870\\uac74', u'\\ucd94\\ucd9c', u'\\ud504\\ub85c\\uadf8\\ub7a8', u'\\ub300\\uba74\\uc801', u'\\uba74\\uc801', u'\\uac04\\uc12d', u'\\uad11\\ud559\\uacc4', u'\\uc124\\uacc4', u'\\uc81c\\uc791', u'\\ubbf8\\ub77c', u'\\ubbf8\\ub77c\\uc6b0', u'\\uac04\\uc12d\\uacc4', u'\\uae30\\ucd08', u'\\ucd5c\\uc801', u'\\uc2dc\\uc900', u'\\uc2dc\\uc900\\ub80c\\uc988', u'\\ub80c\\uc988', u'\\ud30c\\uc7a5', u'\\ubcc0\\ud654', u'\\ud30c\\uc218', u'\\uc120\\ud615', u'\\ub300\\uc751', u'\\uc624\\ucc28', u'\\ubd84\\uc11d', u'\\ub4f1\\uac04\\uaca9', u'\\uac04\\uaca9', u'\\uc0dd\\uc131', u'\\uc120\\ud615\\uc131', u'\\ud615\\uc131', u'\\uad11\\uc6d0', u'\\ucd5c\\uc801\\ud654', u'\\uc124\\uacc4\\uc548', u'\\ub3c4\\ucd9c', u'\\uad11\\uc6d0\\ubd80', u'\\uad11\\uc2e0\\ud638', u'\\uc2e0\\ud638', u'\\uac04\\uc12d\\ubd80', u'\\uc218\\uad11', u'\\uc218\\uad11\\ubd80\\uc758', u'\\ubd80\\uc758', u'\\uad6c\\uc870', u'\\uc548\\uc815\\uc801', u'\\ubb34\\ub2ac', u'\\uac80\\uc99d', u'\\uace0\\uc18d', u'\\uc774\\ubbf8\\uc9c0', u'\\ud68d\\ub4dd', u'\\uac1c\\ubc1c', u'\\uc601\\uc0c1', u'\\uc774\\uc6a9', u'\\uc704\\uc0c1', u'\\uac80\\ucd9c', u'\\uc54c\\uace0\\ub9ac\\uc998', u'\\ub370\\uc774\\ud130', u'\\ucc98\\ub9ac', u'\\uae30\\uc220', u'\\ud68c\\ub85c', u'\\ubcf4\\ub4dc', u'\\uc9c1\\uc124\\uacc4', u'\\ub4dc\\ub77c\\uc774\\ubc84', u'\\uc2e4\\uc2dc\\uac04', u'\\uc601\\uc0c1\\ud654', u'\\ud558\\uc774\\ube0c\\ub9ac\\ub4dc', u'\\uc2e0\\ud638\\ucc98\\ub9ac', u'\\uc7ac\\uc870\\ud569', u'\\ubc29\\uc2dd', u'\\uae4a\\uc774', u'\\ubcc0\\uc704', u'\\uc601\\uc5ed', u'\\ub2ec\\uc131', u'\\uc5f0\\uad6c', u'\\uc704\\uc0c1\\uacfc', u'\\uc0c1\\uacfc', u'\\uc870\\uac74', u'\\ucd94\\ucd9c', u'\\ud504\\ub85c\\uadf8\\ub7a8', u'\\ub2e4\\ucc44\\ub110', u'\\ube44\\uad50', u'\\uac00\\ub2a5', u'\\ubaa8\\ub4c8', u'\\ubcd1\\ub82c', u'\\uc791\\uc131', u'\\uad11\\ud559', u'\\uc2dc\\ubbac\\ub808\\uc774\\uc158', u'\\ud2b9\\uc131', u'\\uce21\\uc815', u'\\ub808\\uc774\\uc800', u'\\uc5d0\\ub108\\uc9c0', u'\\ubd84\\uad11', u'\\uac04\\uc12d\\ubb34\\ub2ac', u'\\uae30\\uc220\\uc801', u'\\uce21\\uba74', u'\\uae30\\uacc4\\uc801', u'\\uc2a4\\uce90\\ub2dd', u'\\ubc29\\uc2dd', u'\\uc81c\\uac70', u'\\uce21\\uc815', u'\\uc18d\\ub3c4', u'\\ud5a5\\uc0c1', u'\\ud30c\\uc7a5', u'\\uad11\\uc6d0', u'\\ub514\\uc9c0\\ud138', u'\\uc2e0\\ud638', u'\\ucc98\\ub9ac', u'\\uae30\\ubc95', u'\\uc801\\uc6a9', u'\\ubc94\\uc704', u'\\ud655\\uc7a5', u'\\uacf5\\uac04', u'\\ubd84\\ud574\\ub2a5', u'\\uc99d\\uac00', u'\\uc788\\uc74c', u'\\ubc18\\ub3c4\\uccb4', u'\\uacf5\\uc815', u'\\uc774\\uc678', u'\\uc9c4\\ub3d9', u'\\ub454\\uac10', u'\\ud2b9\\uc131', u'\\ud544\\uc694', u'\\uc0dd\\uc0b0', u'\\uc2e4\\uc2dc\\uac04', u'\\uac80\\uc0ac', u'\\ubd84\\uc57c', u'\\uace0\\uc18d', u'\\ud615\\uc0c1', u'\\uad00\\ub828', u'\\uc6d0\\ucc9c', u'\\uae30\\uc220', u'\\ud655\\ubcf4', u'\\uc7a5\\ube44', u'\\uc138\\uacc4', u'\\uc138\\uacc4\\uc2dc\\uc7a5', u'\\uc2dc\\uc7a5', u'\\uc120\\uc810', u'\\ud45c\\uc900\\ud654', u'\\uc8fc\\ub3c4', u'\\uad11\\ud1b5\\uc2e0', u'\\ud1b5\\uc2e0', u'\\uc804\\uae30', u'\\uc804\\uae30\\uc804\\uc790', u'\\uc804\\uc790', u'\\ubbf8\\uc138', u'\\uae30\\uacc4', u'\\uae30\\uacc4\\ubd80\\ud488', u'\\ubd80\\ud488', u'\\uc694\\uad6c', u'\\ub300\\uba74\\uc801', u'\\uba74\\uc801', u'\\ub9c8\\uc774\\ud06c\\ub85c', u'\\uc591\\uc0b0', u'\\uc2dc\\uc2a4\\ud15c', u'\\uad6d\\uc0b0\\ud654', u'\\ud5a5\\ud6c4', u'\\uad6d\\ub0b4', u'\\ub514\\uc2a4\\ud50c\\ub808\\uc774', u'\\uc0b0\\uc5c5', u'\\ubc1c\\uc804', u'\\ud6a8\\uacfc\\uc801', u'\\ub300\\uc751', u'\\ud310\\ub2e8', u'\\uacbd\\uc81c', u'\\uacbd\\uc81c\\uc0b0\\uc5c5', u'\\ub300\\uba74', u'\\ub300\\uba74\\uc801\\ud654', u'\\uc801\\ud654', u'\\uac00\\ub2a5', u'\\uc6d0\\uac00', u'\\uc808\\uac10', u'\\uc815\\ubc00\\ud654', u'\\uc2e0\\uc81c\\ud488', u'\\uc81c\\ud488', u'\\uac1c\\ubc1c', u'\\uae30\\uac04', u'\\ub2e8\\ucd95', u'\\uc218\\uc8fc', u'\\ucd9c\\ud558', u'\\ucd9c\\ud558\\uae30\\uac04', u'\\ud488\\uc9c8', u'\\uacbd\\uc7c1\\ub825', u'\\ucd08\\uc815\\ubc00', u'\\uc124\\uacc4', u'\\uc81c\\uc791', u'\\uace0\\ubd80', u'\\uac00\\uce58', u'\\uae30\\uc5ec', u'\\uae30\\ub300', u'\\uc218\\ucd9c', u'\\uc99d\\ub300', u'\\ud6a8\\uacfc'], tags=['EA06'])]\n"
     ]
    }
   ],
   "source": [
    "#print lee_train_file\n",
    "#print lee_test_file\n",
    "print (train_corpus[:2])\n",
    "#for x in train_corpus[0].words:\n",
    " #   print x"
   ]
  },
  {
   "cell_type": "markdown",
   "metadata": {},
   "source": [
    "And the testing corpus looks like this:"
   ]
  },
  {
   "cell_type": "code",
   "execution_count": 6,
   "metadata": {},
   "outputs": [
    {
     "name": "stdout",
     "output_type": "stream",
     "text": [
      "[TaggedDocument(words=[u'\\ud654\\ud559', u'\\uacf5\\uc815', u'\\ucd09\\ub9e4', u'\\ucd09\\ub9e4\\uc751\\uc6a9', u'\\uc751\\uc6a9', u'\\uc0b0\\ud654\\ubb3c', u'\\uc785\\uc790', u'\\uc785\\uc790\\uc81c\\uc870', u'\\uc81c\\uc870', u'\\uae30\\uc220', u'\\uac1c\\ubc1c', u'\\uc0b0\\uc18c', u'\\uc0b0\\uc18c\\uc800\\uc7a5\\ub2a5\\ub825', u'\\uc800\\uc7a5', u'\\ub2a5\\ub825', u'\\uc138\\ub968', u'\\uc138\\ub968\\uc0b0\\ud654\\ubb3c', u'\\uc0b0\\ud654\\ubb3c', u'\\uc774\\uc628', u'\\uc774\\uc628\\ub3c4\\ud551\\uc0b0\\ud654\\ubb3c', u'\\ub3c4\\ud551', u'\\uc800\\uc628', u'\\uc6a9\\ub9e4', u'\\uc6a9\\ub9e4\\uc5f4', u'\\ud569\\uc131', u'\\ube44\\ud45c', u'\\ube44\\ud45c\\uba74\\uc801', u'\\uba74\\uc801', u'\\ud654\\ud559', u'\\ud654\\ud559\\uacf5\\uc815', u'\\uacf5\\uc815', u'\\uc800\\uac00', u'\\uc751\\uc6a9', u'\\uae08\\uc18d', u'\\ub3c4\\ud551', u'\\uc138\\ub9ac\\uc544', u'\\ubd84\\ub9d0', u'\\uc124\\uacc4', u'\\ud569\\uc131', u'\\ud569\\uc131\\uae30\\uc220', u'\\uae30\\uc220', u'\\uac1c\\ubc1c', u'\\ud615\\uc131', u'\\ud615\\uc131\\uc18d\\ub3c4', u'\\uc18d\\ub3c4', u'\\uc81c\\uc5b4', u'\\uac00\\uc218', u'\\uac00\\uc218\\ubd84\\ud574', u'\\ubd84\\ud574', u'\\uc751\\ucd95', u'\\uc751\\ucd95\\ubc18\\uc751\\uc18d\\ub3c4', u'\\ubc18\\uc751', u'\\uc870\\uc808', u'\\uc785\\uc790', u'\\uc751\\uc9d1', u'\\uc751\\uc9d1\\uad6c\\uc870', u'\\uad6c\\uc870', u'\\ube44\\ud45c', u'\\ube44\\ud45c\\uba74\\uc801', u'\\uba74\\uc801', u'\\uc9d1\\uc18d', u'\\uc9d1\\uc18d\\ucd08\\uc74c\\ud30c', u'\\ucd08\\uc74c\\ud30c', u'\\uc774\\uc6a9', u'\\uc6a9\\ub9e4', u'\\uc6a9\\ub9e4\\uc5f4', u'\\ub098\\ub178', u'\\uc81c\\uc870', u'\\uacf5\\uc815\\uac1c\\ubc1c', u'\\uc774\\uc628', u'\\ubcf5\\ud569', u'\\uc6a9\\ub9e4', u'\\uc6a9\\ub9e4\\uc5f4', u'\\ud569\\uc131', u'\\uacf5\\uc815', u'\\uc774\\uc6a9', u'\\uc138\\ub9ac\\uc544', u'\\ub098\\ub178', u'\\uc785\\uc790', u'\\uc81c\\uc870', u'\\uae30\\uc220', u'\\uae30\\uc220\\uac1c\\ubc1c', u'\\uac1c\\ubc1c', u'\\ud569\\uc131\\uacf5\\uc815', u'\\ucd08\\uc74c\\ud30c', u'\\ub9c8\\uc774\\ud06c\\ub85c', u'\\ub9c8\\uc774\\ud06c\\ub85c\\ud30c', u'\\uc735\\ud569', u'\\uae08\\uc18d', u'\\ub3c4\\ud551', u'\\ubd84\\ub9d0', u'\\ub2e4\\uc591', u'\\uc870\\uc815', u'\\uc870\\uc815\\uc778\\uc790', u'\\uc778\\uc790', u'\\ub3c4\\ucd9c', u'\\ud655\\ubcf4', u'\\uc0b0\\ud654\\ubb3c', u'\\ub098\\ub178\\uc785\\uc790', u'\\uc218\\uc6a9\\uc561', u'\\uc885\\ub958', u'\\ub18d\\ub3c4', u'\\uc870\\uc808', u'\\ucd09\\ub9e4', u'\\ud2b9\\uc131', u'\\ud3c9\\uac00', u'\\uc0b0\\ud654', u'\\ud658\\uc6d0', u'\\ubc18\\uc751', u'\\uae30\\ub2a5\\uc131', u'\\uc735\\ud569\\uacf5\\uc815', u'\\ubcf5\\ud569', u'\\ud06c\\uae30', u'\\uc774\\ud558', u'\\uc81c\\uc5b4', u'\\ubc18\\uc751\\uc131', u'\\ud45c\\uba74', u'\\ud45c\\uba74\\ud2b9\\uc131', u'\\ud6a8\\uc728', u'\\uc2e4\\ud5d8', u'\\uc801\\uc815', u'\\uc6b4\\uc804', u'\\uc6b4\\uc804\\uc778\\uc790', u'\\ud615\\uc131', u'\\ud615\\uc131\\uae30\\uad6c', u'\\uae30\\uad6c', u'\\uaddc\\uba85', u'\\uc804\\uad6c\\uccb4', u'\\uc6a9\\uc561', u'\\uc601\\ud5a5', u'\\ubaa8\\uc591', u'\\uc5f0\\uad6c', u'\\uc218\\ud589', u'\\ubc18\\uc751\\uc628\\ub3c4', u'\\uc628\\ub3c4', u'\\ud575\\uc0dd\\uc131', u'\\uc131\\uc7a5', u'\\ubb3c\\ub9ac', u'\\ud654\\ud559\\uc801', u'\\uc774\\uc628', u'\\uc138\\ub9ac\\uc544', u'\\ub098\\ub178', u'\\uc785\\uc790', u'\\uc81c\\uc870', u'\\uc5f0\\uad6c', u'\\uc218\\ud589', u'\\ucc38\\uc5ec', u'\\ud559\\uc0dd', u'\\ubd84\\ub9d0', u'\\uc0dd\\uc131', u'\\uc0dd\\uc131\\uae30\\uad6c', u'\\uae30\\uad6c', u'\\uac00\\uc9c0', u'\\ud569\\uc131', u'\\uacf5\\uc815', u'\\ubc29\\ubc95', u'\\ud2b9\\uc9d5', u'\\ud559\\uc2b5', u'\\uae30\\ud68c', u'\\uc81c\\uacf5', u'\\uae30\\uc220', u'\\uc2b5\\ub4dd', u'\\uc0b0\\uc18c', u'\\uc0b0\\uc18c\\uc800\\uc7a5', u'\\uc800\\uc7a5', u'\\uae30\\ub2a5', u'\\uc6d0\\ub9ac', u'\\ubb3c\\uc131', u'\\uc774\\ud574', u'\\ud6a8\\uc728', u'\\uadf9\\ub300\\ud654', u'\\uad6c\\uc870', u'\\uc124\\uacc4', u'\\uc219\\uc9c0', u'\\ud658\\uacbd', u'\\uc0b0\\uc5c5', u'\\uadfc\\uac04\\uc778', u'\\ub300\\uae30', u'\\ub300\\uae30\\uc624\\uc5fc', u'\\uc624\\uc5fc', u'\\ubc29\\uc9c0', u'\\ubc29\\uc9c0\\uae30\\uc220', u'\\ud655\\ubcf4', u'\\ub54c\\ubb38', u'\\uc7ac\\ub8cc', u'\\uad00\\ub828', u'\\uad6d\\uac00', u'\\uacbd\\uc7c1\\ub825', u'\\uc81c\\uace0', u'\\ud2b9\\uc131', u'\\ud5a5\\uc0c1', u'\\ubd80\\uac00', u'\\uac00\\uce58', u'\\uae30\\ub2a5\\uc131', u'\\uc18c\\uc7ac', u'\\ud65c\\uc131\\ud654', u'\\uac00\\ub2a5', u'\\uc6d0\\ucc9c', u'\\uc6d0\\ucc9c\\uae30\\uc220', u'\\ud655\\ubcf4\\uac00\\ub2a5', u'\\uc790\\ub3d9\\ucc28', u'\\ucd09\\ub9e4', u'\\uc801\\uc6a9', u'\\ube44\\uc6a9', u'\\uc808\\uac10'], tags=['EB02'])]\n"
     ]
    }
   ],
   "source": [
    "print(test_corpus[:1])"
   ]
  },
  {
   "cell_type": "markdown",
   "metadata": {},
   "source": [
    "Notice that the testing corpus is just a list of lists and does not contain any tags."
   ]
  },
  {
   "cell_type": "markdown",
   "metadata": {},
   "source": [
    "## Training the Model"
   ]
  },
  {
   "cell_type": "markdown",
   "metadata": {},
   "source": [
    "### Instantiate a Doc2Vec Object "
   ]
  },
  {
   "cell_type": "markdown",
   "metadata": {},
   "source": [
    "Now, we'll instantiate a Doc2Vec model with a vector size with 50 words and iterating over the training corpus 55 times. We set the minimum word count to 2 in order to give higher frequency words more weighting. Model accuracy can be improved by increasing the number of iterations but this generally increases the training time. Small datasets with short documents, like this one, can benefit from more training passes."
   ]
  },
  {
   "cell_type": "code",
   "execution_count": 13,
   "metadata": {
    "collapsed": true
   },
   "outputs": [],
   "source": [
    "model = gensim.models.doc2vec.Doc2Vec(size=15, min_count=2, iter=20)\n",
    "model.build_vocab(train_corpus)"
   ]
  },
  {
   "cell_type": "code",
   "execution_count": null,
   "metadata": {},
   "outputs": [],
   "source": []
  },
  {
   "cell_type": "markdown",
   "metadata": {},
   "source": [
    "### Build a Vocabulary"
   ]
  },
  {
   "cell_type": "code",
   "execution_count": 16,
   "metadata": {
    "collapsed": true
   },
   "outputs": [],
   "source": [
    "def tester(corpus):\n",
    "    total_success = 0\n",
    "    total_data = 0\n",
    "    #WARNING : remove divide 4\n",
    "    for doc_id in range(len(corpus)//4):\n",
    "        inferred_vector = model.infer_vector(corpus[doc_id].words)\n",
    "        sims = model.docvecs.most_similar([inferred_vector], topn=5)\n",
    "        for tag in corpus[doc_id].tags:\n",
    "            score = tag in [doc_tag for doc_tag, sim in sims]\n",
    "            if score:\n",
    "                total_success += 1\n",
    "            total_data += 1\n",
    "\n",
    "    print(total_success/total_data) "
   ]
  },
  {
   "cell_type": "code",
   "execution_count": 17,
   "metadata": {},
   "outputs": [
    {
     "name": "stdout",
     "output_type": "stream",
     "text": [
      "Trial with: 15 30\n",
      "Train:0.479444444444\n",
      "Test:0.304911955514\n",
      "Trial with: 15 35\n",
      "Train:0.501888888889\n",
      "Test:0.346617238184\n",
      "Trial with: 15 40\n",
      "Train:0.502111111111\n",
      "Test:0.341983317887\n",
      "Trial with: 15 45\n",
      "Train:0.506\n",
      "Test:0.342910101946\n",
      "Trial with: 15 50\n",
      "Train:0.513444444444\n",
      "Test:0.348470806302\n"
     ]
    }
   ],
   "source": [
    "\n",
    "def trial(the_size,the_iter):\n",
    "    global model\n",
    "    print(\"Trial with:\",the_size,the_iter)\n",
    "    model = gensim.models.doc2vec.Doc2Vec(size=the_size, min_count=2, iter=the_iter)\n",
    "    \n",
    "    model.build_vocab(train_corpus)\n",
    "    model.train(train_corpus, total_examples=model.corpus_count, epochs=model.iter)\n",
    "    print('Train:',end='')\n",
    "    tester(train_corpus)\n",
    "    print('Test:',end='')\n",
    "    tester(test_corpus)\n",
    "for i in range(30,55,5):\n",
    "    trial(the_size=15,the_iter=i)"
   ]
  },
  {
   "cell_type": "markdown",
   "metadata": {},
   "source": [
    "Essentially, the vocabulary is a dictionary (accessible via `model.wv.vocab`) of all of the unique words extracted from the training corpus along with the count (e.g., `model.wv.vocab['penalty'].count` for counts for the word `penalty`)."
   ]
  },
  {
   "cell_type": "markdown",
   "metadata": {},
   "source": [
    "### Time to Train\n",
    "\n",
    "If the BLAS library is being used, this should take no more than 3 seconds.\n",
    "If the BLAS library is not being used, this should take no more than 2 minutes, so use BLAS if you value your time."
   ]
  },
  {
   "cell_type": "code",
   "execution_count": 104,
   "metadata": {},
   "outputs": [
    {
     "name": "stdout",
     "output_type": "stream",
     "text": [
      "Wall time: 24.2 s\n"
     ]
    },
    {
     "data": {
      "text/plain": [
       "35085663"
      ]
     },
     "execution_count": 104,
     "metadata": {},
     "output_type": "execute_result"
    }
   ],
   "source": [
    "%time model.train(train_corpus, total_examples=model.corpus_count, epochs=model.iter)"
   ]
  },
  {
   "cell_type": "markdown",
   "metadata": {},
   "source": [
    "### Inferring a Vector"
   ]
  },
  {
   "cell_type": "markdown",
   "metadata": {},
   "source": [
    "One important thing to note is that you can now infer a vector for any piece of text without having to re-train the model by passing a list of words to the `model.infer_vector` function. This vector can then be compared with other vectors via cosine similarity."
   ]
  },
  {
   "cell_type": "code",
   "execution_count": 72,
   "metadata": {},
   "outputs": [
    {
     "data": {
      "text/plain": [
       "[('EI05', 0.806117057800293),\n",
       " ('EE12', 0.8059660196304321),\n",
       " ('ED06', 0.8056091666221619),\n",
       " ('EA09', 0.7554200887680054),\n",
       " ('ED08', 0.735058069229126)]"
      ]
     },
     "execution_count": 72,
     "metadata": {},
     "output_type": "execute_result"
    }
   ],
   "source": [
    "model.infer_vector([u'데이터', u'알고리즘', u'소프트웨어'])\n",
    "inferred_vector = model.infer_vector(train_corpus[0].words)\n",
    "model.docvecs.most_similar([inferred_vector], topn=5)"
   ]
  },
  {
   "cell_type": "markdown",
   "metadata": {},
   "source": [
    "## Assessing Model"
   ]
  },
  {
   "cell_type": "markdown",
   "metadata": {},
   "source": [
    "To assess our new model, we'll first infer new vectors for each document of the training corpus, compare the inferred vectors with the training corpus, and then returning the rank of the document based on self-similarity. Basically, we're pretending as if the training corpus is some new unseen data and then seeing how they compare with the trained model. The expectation is that we've likely overfit our model (i.e., all of the ranks will be less than 2) and so we should be able to find similar documents very easily. Additionally, we'll keep track of the second ranks for a comparison of less similar documents. "
   ]
  },
  {
   "cell_type": "code",
   "execution_count": 10,
   "metadata": {
    "collapsed": true
   },
   "outputs": [],
   "source": []
  },
  {
   "cell_type": "code",
   "execution_count": 11,
   "metadata": {},
   "outputs": [
    {
     "name": "stdout",
     "output_type": "stream",
     "text": [
      "0.351331592689\n",
      "0.290622098422\n"
     ]
    }
   ],
   "source": [
    "tester(train_corpus)\n",
    "tester(test_corpus)"
   ]
  },
  {
   "cell_type": "markdown",
   "metadata": {},
   "source": [
    "Let's count how each document ranks with respect to the training corpus "
   ]
  },
  {
   "cell_type": "code",
   "execution_count": 18,
   "metadata": {
    "collapsed": true,
    "scrolled": true
   },
   "outputs": [],
   "source": [
    "model.save('trained_with size=15&iter=50_koreanonly')"
   ]
  },
  {
   "cell_type": "markdown",
   "metadata": {},
   "source": [
    "Basically, greater than 95% of the inferred documents are found to be most similar to itself and about 5% of the time it is mistakenly most similar to another document. the checking of an inferred-vector against a training-vector is a sort of 'sanity check' as to whether the model is behaving in a usefully consistent manner, though not a real 'accuracy' value.\n",
    "\n",
    "This is great and not entirely surprising. We can take a look at an example:"
   ]
  },
  {
   "cell_type": "code",
   "execution_count": 18,
   "metadata": {},
   "outputs": [
    {
     "name": "stdout",
     "output_type": "stream",
     "text": [
      "Document (299): «australia will take on france in the doubles rubber of the davis cup tennis final today with the tie levelled at wayne arthurs and todd woodbridge are scheduled to lead australia in the doubles against cedric pioline and fabrice santoro however changes can be made to the line up up to an hour before the match and australian team captain john fitzgerald suggested he might do just that we ll make team appraisal of the whole situation go over the pros and cons and make decision french team captain guy forget says he will not make changes but does not know what to expect from australia todd is the best doubles player in the world right now so expect him to play he said would probably use wayne arthurs but don know what to expect really pat rafter salvaged australia davis cup campaign yesterday with win in the second singles match rafter overcame an arm injury to defeat french number one sebastien grosjean in three sets the australian says he is happy with his form it not very pretty tennis there isn too many consistent bounces you are playing like said bit of classic old grass court rafter said rafter levelled the score after lleyton hewitt shock five set loss to nicholas escude in the first singles rubber but rafter says he felt no added pressure after hewitt defeat knew had good team to back me up even if we were down he said knew could win on the last day know the boys can win doubles so even if we were down still feel we are good enough team to win and vice versa they are good enough team to beat us as well»\n",
      "\n",
      "SIMILAR/DISSIMILAR DOCS PER MODEL Doc2Vec(dm/m,d50,n5,w5,mc2,s0.001,t3):\n",
      "\n",
      "MOST (299, 0.9350012540817261): «australia will take on france in the doubles rubber of the davis cup tennis final today with the tie levelled at wayne arthurs and todd woodbridge are scheduled to lead australia in the doubles against cedric pioline and fabrice santoro however changes can be made to the line up up to an hour before the match and australian team captain john fitzgerald suggested he might do just that we ll make team appraisal of the whole situation go over the pros and cons and make decision french team captain guy forget says he will not make changes but does not know what to expect from australia todd is the best doubles player in the world right now so expect him to play he said would probably use wayne arthurs but don know what to expect really pat rafter salvaged australia davis cup campaign yesterday with win in the second singles match rafter overcame an arm injury to defeat french number one sebastien grosjean in three sets the australian says he is happy with his form it not very pretty tennis there isn too many consistent bounces you are playing like said bit of classic old grass court rafter said rafter levelled the score after lleyton hewitt shock five set loss to nicholas escude in the first singles rubber but rafter says he felt no added pressure after hewitt defeat knew had good team to back me up even if we were down he said knew could win on the last day know the boys can win doubles so even if we were down still feel we are good enough team to win and vice versa they are good enough team to beat us as well»\n",
      "\n",
      "MEDIAN (133, 0.2410505712032318): «the hunt for osama bin laden has shifted to the forests around the cave complex of tora bora after swoop through the last caves failed to reveal any sign of the saudi born fugitive us special forces are now combing the forests alongside anti taliban militias up to al qaeda fighters are believed to have scattered into the hills many heading south toward the pakistan border local commanders have warned they will shoot any villager who shelters them us bombing runs have eased off in the past hours as american special forces move to deeper into the forest to coordinate the hunt earlier us forces intercepted voice communication they believed could be bin laden speaking by short range radio to his fighters however senior afghan commander haji zaman said he believed bin laden had left the tora bora area us defence secretary donald rumsfeld on visit to us troops at baghram air base outside kabul said the battle against the taliban and al qaeda was not over there are still pockets of taliban and al qaeda forces that have drifted into the mountains and could reform and there is good deal yet to be done he said»\n",
      "\n",
      "LEAST (261, -0.050494786351919174): «afghan opposition leaders meeting in germany have reached an agreement after seven days of talks on the structure of an interim post taliban government for afghanistan the agreement calls for the immediate assembly of temporary group of multi national peacekeepers in kabul and possibly other areas the four afghan factions have approved plan for member ruling council composed of chairman five deputy chairmen and other members the council would govern afghanistan for six months at which time traditional afghan assembly called loya jirga would be convened to decide on more permanent structure the agreement calls for elections within two years»\n",
      "\n"
     ]
    }
   ],
   "source": [
    "print('Document ({}): «{}»\\n'.format(doc_id, ' '.join(train_corpus[doc_id].words)))\n",
    "print(u'SIMILAR/DISSIMILAR DOCS PER MODEL %s:\\n' % model)\n",
    "for label, index in [('MOST', 0), ('MEDIAN', len(sims)//2), ('LEAST', len(sims) - 1)]:\n",
    "    print(u'%s %s: «%s»\\n' % (label, sims[index], ' '.join(train_corpus[sims[index][0]].words)))"
   ]
  },
  {
   "cell_type": "markdown",
   "metadata": {},
   "source": [
    "Notice above that the most similar document is has a similarity score of ~80% (or higher). However, the similarity score for the second ranked documents should be significantly lower (assuming the documents are in fact different) and the reasoning becomes obvious when we examine the text itself"
   ]
  },
  {
   "cell_type": "code",
   "execution_count": 19,
   "metadata": {},
   "outputs": [
    {
     "name": "stdout",
     "output_type": "stream",
     "text": [
      "Train Document (94): «foreign minister alexander downer says the commonwealth democracy watchdog should put zimbabwe formally on its agenda in the first step to possible suspension from the organisation mr downer says ministers from the commonwealth ministerial action group cmag should review whether the reported violence and intimidation in zimbabwe means it has violated the commonwealth code of good governance cmag ministers from australia bangladesh barbados botswana britain canada malaysia and nigeria will meet in london tomorrow for talks on zimbabwe in recent meetings they have suspended both fiji and pakistan following military coups however their talks on the violent campaign of farm occupations in zimbabwe have been restricted to informal discussions as president robert mugabe government holds power through recognised elections mr downer also says the commonwealth ministers should maintain pressure on president mugabe to allow international observers to oversee presidential elections next march»\n",
      "\n",
      "Similar Document (80, 0.7893248796463013): «zimbabwe has been given five weeks to stop the political violence and invasions of white owned farms or face possible suspension from the commonwealth meeting in london of the commonwealth ministerial action group has listed zimbabwe the first step ahead of what could mean much tougher action under pressure from australia and the united kingdom the issue of zimbabwe consistent breach of democratic principles under the harare declaration is finally and formally on the table the commonwealth group is waiting for response from zimbabwe to request to allow observers for the upcoming election australia foreign minister alexander downer says if there is not substantial change in zimbabwe significant sanctions are possible the commonwealth ministerial action group does have number of weapons available to it and one of them is suspension he said at the same time fiji suspension was lifted after its return to democracy»\n",
      "\n"
     ]
    }
   ],
   "source": [
    "# Pick a random document from the test corpus and infer a vector from the model\n",
    "doc_id = random.randint(0, len(train_corpus))\n",
    "\n",
    "# Compare and print the most/median/least similar documents from the train corpus\n",
    "print('Train Document ({}): «{}»\\n'.format(doc_id, ' '.join(train_corpus[doc_id].words)))\n",
    "sim_id = second_ranks[doc_id]\n",
    "print('Similar Document {}: «{}»\\n'.format(sim_id, ' '.join(train_corpus[sim_id[0]].words)))"
   ]
  },
  {
   "cell_type": "markdown",
   "metadata": {},
   "source": [
    "## Testing the Model"
   ]
  },
  {
   "cell_type": "markdown",
   "metadata": {},
   "source": [
    "Using the same approach above, we'll infer the vector for a randomly chosen test document, and compare the document to our model by eye."
   ]
  },
  {
   "cell_type": "code",
   "execution_count": 20,
   "metadata": {},
   "outputs": [
    {
     "name": "stdout",
     "output_type": "stream",
     "text": [
      "Test Document (46): «the river elbe surged to an all time record high friday flooding more districts of the historic city of dresden as authorities scrambled to evacuate tens of thousands of residents in the worst flooding to hit central europe in memory in the czech republic authorities were counting the cost of the massive flooding as people returned to the homes and the vlava river receded revealing the full extent of the damage to lives and landmarks»\n",
      "\n",
      "SIMILAR/DISSIMILAR DOCS PER MODEL Doc2Vec(dm/m,d50,n5,w5,mc2,s0.001,t3):\n",
      "\n",
      "MOST (9, 0.5827658772468567): «some roads are closed because of dangerous conditions caused by bushfire smoke motorists are being asked to avoid the hume highway between picton road and the illawarra highway where police have reduced the speed limit from kilometres an hour to in southern sydney picton road is closed between wilton and bulli appin road is closed from appin to bulli tops and all access roads to royal national park are closed motorists are also asked to avoid the illawarra highway between the hume highway and robertson and the great western highway between penrith and springwood because of reduced visibility in north western sydney only local residents are allowed to use wisemans ferry road and upper color road under police escort»\n",
      "\n",
      "MEDIAN (287, 0.06506192684173584): «royal commission will begin this morning in sydney into the collapse of insurance giant hih while the commission held an initial procedural hearing in september today the public hearings will begin more than eight months after the company was placed into provisional liquidation more than one million pages of documents have already been subpoenaed from witnesses including former directors the australian securities and investments commission asic and the prudential regulatory authority the terms of reference include determining what contributed to the collapse whether any laws were broken and whether regulations need to be changed western australian justice neville owen heads the commission but today it is expected to hear mainly from counsel assisting wayne martin qc spokesman for the commission john dickie says it faces great challenge the issues are quite complex really and certainly think it the first one into corporation collapse like this one mr dickie said the inquiry is expected to be finished by the end of next june»\n",
      "\n",
      "LEAST (17, -0.31862398982048035): «spain has begun its hopman cup campaign in perth with victory over argentina arantxa sanchez vicario and tommy robredoboth won their singles matches and then teamed to win the mixed doubles sanchez vicario says she is hoping to win her second hopman cup title after winning the tournament with her brother emilio in it would be very nice to start the year off and as say it always tough but it very good start for me and looking forward with tommy to see if we can be the champions again she said today the united states will play france meanwhile world number one lleyton hewitt says he will not be putting pressure on himself to win next month australian tennis open in melbourne hewitt yesterday teamed with fellow australian alicia molik to beat switzerland in their opening tie at the hopman cup in perth hewitt says his first objective will be to reach the second week of the grand slam event think if play my best tennis and give per cent no matter who play think in with good chance of getting through to the second week and if that happens then most times in grand slam it sort of anyone tournament from there he said»\n",
      "\n"
     ]
    }
   ],
   "source": [
    "# Pick a random document from the test corpus and infer a vector from the model\n",
    "doc_id = random.randint(0, len(test_corpus))\n",
    "inferred_vector = model.infer_vector(test_corpus[doc_id])\n",
    "sims = model.docvecs.most_similar([inferred_vector], topn=len(model.docvecs))\n",
    "\n",
    "# Compare and print the most/median/least similar documents from the train corpus\n",
    "print('Test Document ({}): «{}»\\n'.format(doc_id, ' '.join(test_corpus[doc_id])))\n",
    "print(u'SIMILAR/DISSIMILAR DOCS PER MODEL %s:\\n' % model)\n",
    "for label, index in [('MOST', 0), ('MEDIAN', len(sims)//2), ('LEAST', len(sims) - 1)]:\n",
    "    print(u'%s %s: «%s»\\n' % (label, sims[index], ' '.join(train_corpus[sims[index][0]].words)))"
   ]
  },
  {
   "cell_type": "markdown",
   "metadata": {},
   "source": [
    "### Wrapping Up\n",
    "\n",
    "That's it! Doc2Vec is a great way to explore relationships between documents."
   ]
  },
  {
   "cell_type": "code",
   "execution_count": null,
   "metadata": {
    "collapsed": true
   },
   "outputs": [],
   "source": []
  }
 ],
 "metadata": {
  "kernelspec": {
   "display_name": "Python 2",
   "language": "python",
   "name": "python2"
  },
  "language_info": {
   "codemirror_mode": {
    "name": "ipython",
    "version": 2
   },
   "file_extension": ".py",
   "mimetype": "text/x-python",
   "name": "python",
   "nbconvert_exporter": "python",
   "pygments_lexer": "ipython2",
   "version": "2.7.13"
  }
 },
 "nbformat": 4,
 "nbformat_minor": 1
}
