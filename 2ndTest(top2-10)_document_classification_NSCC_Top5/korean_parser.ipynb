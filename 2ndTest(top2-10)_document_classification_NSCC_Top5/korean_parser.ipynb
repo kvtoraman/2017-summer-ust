{
 "cells": [
  {
   "cell_type": "code",
   "execution_count": 4,
   "metadata": {},
   "outputs": [
    {
     "name": "stdout",
     "output_type": "stream",
     "text": [
      "[사과, 사과사과]\n",
      "[사과,\n",
      " 사과,\n",
      " 사과,\n",
      " 사과사과사과사과]\n"
     ]
    }
   ],
   "source": [
    "from konlpy.tag import Kkma\n",
    "from konlpy.tag import Hannanum\n",
    "from konlpy.utils import pprint\n",
    "hannanum = Hannanum()\n",
    "kkma = Kkma()\n",
    "pprint(kkma.nouns(u'사과 사과 사과 사과사과사과사과 '))\n",
    "pprint(hannanum.nouns(u'사과 사과 사과 사과사과사과사과 '))\n"
   ]
  },
  {
   "cell_type": "code",
   "execution_count": null,
   "metadata": {
    "collapsed": true
   },
   "outputs": [],
   "source": []
  }
 ],
 "metadata": {
  "kernelspec": {
   "display_name": "Python 2",
   "language": "python",
   "name": "python2"
  },
  "language_info": {
   "codemirror_mode": {
    "name": "ipython",
    "version": 2
   },
   "file_extension": ".py",
   "mimetype": "text/x-python",
   "name": "python",
   "nbconvert_exporter": "python",
   "pygments_lexer": "ipython2",
   "version": "2.7.13"
  }
 },
 "nbformat": 4,
 "nbformat_minor": 2
}
