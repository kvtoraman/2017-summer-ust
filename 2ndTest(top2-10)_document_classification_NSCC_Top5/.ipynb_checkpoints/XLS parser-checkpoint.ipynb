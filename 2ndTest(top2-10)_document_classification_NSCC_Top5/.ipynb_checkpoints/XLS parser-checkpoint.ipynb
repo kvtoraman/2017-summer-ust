{
 "cells": [
  {
   "cell_type": "code",
   "execution_count": 4,
   "metadata": {},
   "outputs": [],
   "source": [
    "import pandas as pd\n",
    "from konlpy.tag import Kkma\n",
    "from konlpy.tag import Hannanum\n",
    "from konlpy.utils import pprint\n",
    "from random import randint\n",
    "from time import time\n",
    "from itertools import izip,izip_longest\n",
    "\n",
    "kkma = Kkma()    \n",
    "\n",
    "out = open(\"last2lines.dat\",\"w\")\n",
    "xls = pd.ExcelFile(\"last2lines.xls\")\n",
    "#xls = pd.ExcelFile(\"test.xls\")\n",
    "\n",
    "sheet = xls.parse(0) #2 is the sheet number\n",
    "sheet = sheet.fillna('')\n",
    "KOR_PJT_NM = sheet[\"KOR_PJT_NM\"]\n",
    "RSCH_AREA_CLS1_CD = sheet[\"RSCH_AREA_CLS1_CD\"]\n",
    "RSCH_AREA_CLS2_CD = sheet[\"RSCH_AREA_CLS2_CD\"]\n",
    "RSCH_AREA_CLS3_CD = sheet[\"RSCH_AREA_CLS3_CD\"]\n",
    "\n",
    "KOR_KYWD = sheet[\"KOR_KYWD\"]\n",
    "ENG_KYWD = sheet[\"ENG_KYWD\"]\n",
    "RSCH_GOAL_ABSTRACT = sheet[\"RSCH_GOAL_ABSTRACT\"]\n",
    "RSCH_ABSTRACT = sheet[\"RSCH_ABSTRACT\"]\n",
    "EXP_EFCT_ABSTRACT = sheet[\"EXP_EFCT_ABSTRACT\"]\n",
    "counter = 0\n",
    "for name,code1,kor_kywd,eng_kywd,goal,abstract,efct in izip(KOR_PJT_NM,RSCH_AREA_CLS1_CD,KOR_KYWD,ENG_KYWD,RSCH_GOAL_ABSTRACT,RSCH_ABSTRACT,EXP_EFCT_ABSTRACT):\n",
    "    #print(code)\n",
    "    #t1 = time()\n",
    "    counter += 1\n",
    "    korean_part = name +\" \"+ kor_kywd + \" \" + goal+\" \" + abstract + \" \" + efct\n",
    "    korean_part = korean_part.replace('\\n',' ')\n",
    "    korean_part = korean_part.replace('\\r',' ')    \n",
    "    korean_part = korean_part.replace('\\t',' ')\n",
    "    #print(eng_kywd)\n",
    "    eng_kywd = eng_kywd.replace('\\n',' ')\n",
    "    eng_kywd = eng_kywd.replace('\\r',' ')\n",
    "    eng_kywd = eng_kywd.replace('\\t',' ')\n",
    "    #print(eng_kywd)\n",
    "    \n",
    "    #t2 = time()\n",
    "    after_tab =  eng_kywd.encode('utf-8')+ \" \" +\\\n",
    "              \" \".join(kkma.nouns(korean_part)).encode(\"utf-8\")+'\\n'\n",
    "    out.write(code1[0:4].encode('utf-8'))\n",
    "    out.write('\\t'+after_tab)\n",
    "    #if(code2 is not \"\"):\n",
    "    #   out.write(code2[0:4].encode('utf-8')+'\\t'+\n",
    "    #        after_tab)\n",
    "    #if(code3 is not \"\"):\n",
    "    #   out.write(code2[0:4].encode('utf-8')+'\\t'+\n",
    "    #        after_tab)\n",
    "        \n",
    "    #t3 = time()\n",
    "    if(randint(0,100) < 10):\n",
    "    #    print(t0,t1-t0,t2-t1,t3-t2)\n",
    "        print(code1[0:4]+'\\t'+\n",
    "              eng_kywd + \" \" +\n",
    "              \" \".join(kkma.nouns(korean_part))+'\\n')\n",
    "    #t0 = time()\n",
    "out.close()"
   ]
  },
  {
   "cell_type": "markdown",
   "metadata": {
    "collapsed": true
   },
   "source": [
    " "
   ]
  },
  {
   "cell_type": "code",
   "execution_count": null,
   "metadata": {
    "collapsed": true
   },
   "outputs": [],
   "source": []
  }
 ],
 "metadata": {
  "kernelspec": {
   "display_name": "Python 2",
   "language": "python",
   "name": "python2"
  },
  "language_info": {
   "codemirror_mode": {
    "name": "ipython",
    "version": 2
   },
   "file_extension": ".py",
   "mimetype": "text/x-python",
   "name": "python",
   "nbconvert_exporter": "python",
   "pygments_lexer": "ipython2",
   "version": "2.7.13"
  }
 },
 "nbformat": 4,
 "nbformat_minor": 2
}
